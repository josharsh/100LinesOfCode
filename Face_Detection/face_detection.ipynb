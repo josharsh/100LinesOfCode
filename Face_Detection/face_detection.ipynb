{
 "cells": [
  {
   "cell_type": "code",
   "execution_count": null,
   "metadata": {},
   "outputs": [],
   "source": [
    "import cv2"
   ]
  },
  {
   "cell_type": "code",
   "execution_count": null,
   "metadata": {},
   "outputs": [],
   "source": [
    "# Haar cascade classifier for face detection\n",
    "haar_cascade_face = cv2.CascadeClassifier(cv2.data.haarcascades + 'haarcascade_frontalface_default.xml')"
   ]
  },
  {
   "cell_type": "code",
   "execution_count": null,
   "metadata": {},
   "outputs": [],
   "source": [
    "cap = cv2.VideoCapture(1)\n",
    "while 1:\n",
    "\n",
    "\tret, img = cap.read()\n",
    " \n",
    "    # Image is converted to grayscale\n",
    "\tgray_img = cv2.cvtColor(img, cv2.COLOR_BGR2GRAY)\n",
    "\n",
    "\tfaces = haar_cascade_face.detectMultiScale(gray_img)\n",
    "\n",
    "    # Drawing bounding boxes for faces\n",
    "\tfor (x, y, w, h) in faces:\n",
    "\t\tcv2.rectangle(img, (x,y), (x+w,y+h), (255,255,0), 2)\n",
    "\n",
    "\tcv2.imshow('img', img)\n",
    "\n",
    "\tk = cv2.waitKey(30) & 0xff\n",
    "\tif k == 27: # Press Esc to exit video capture\n",
    "\t\tbreak\n",
    "\n",
    "cap.release()\n",
    "cv2.destroyAllWindows()"
   ]
  },
  {
   "cell_type": "code",
   "execution_count": null,
   "metadata": {},
   "outputs": [],
   "source": []
  }
 ],
 "metadata": {
  "kernelspec": {
   "display_name": "Python 3.10.4 ('tf-env')",
   "language": "python",
   "name": "python3"
  },
  "language_info": {
   "codemirror_mode": {
    "name": "ipython",
    "version": 3
   },
   "file_extension": ".py",
   "mimetype": "text/x-python",
   "name": "python",
   "nbconvert_exporter": "python",
   "pygments_lexer": "ipython3",
   "version": "3.10.4"
  },
  "orig_nbformat": 4,
  "vscode": {
   "interpreter": {
    "hash": "c4cffc09276f0a2db530ad48f4003600c0a582f4edfcfc6e7ac7eb1b50d8ba19"
   }
  }
 },
 "nbformat": 4,
 "nbformat_minor": 2
}
