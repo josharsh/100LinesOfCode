{
 "cells": [
  {
   "cell_type": "markdown",
   "metadata": {},
   "source": [
    "# Guess the Mean Game"
   ]
  },
  {
   "cell_type": "code",
   "execution_count": null,
   "metadata": {},
   "outputs": [],
   "source": [
    "import matplotlib.pyplot as plt\n",
    "import numpy as np\n",
    "import math"
   ]
  },
  {
   "cell_type": "code",
   "execution_count": null,
   "metadata": {},
   "outputs": [],
   "source": [
    "n_choices=100 #number of different possible values for data points\n",
    "n = 1000 #number of data points\n",
    "\n",
    "def generate_data(n_choices, n): \n",
    "    p = np.random.rand(n_choices)\n",
    "    p = p/np.sum(p) #probability distribution\n",
    "\n",
    "    choices = np.arange(1, n_choices+1) # [1-n_choices] possible values for data points\n",
    "    return np.random.choice(choices, size=(n), p=p) #data points"
   ]
  },
  {
   "cell_type": "code",
   "execution_count": null,
   "metadata": {},
   "outputs": [],
   "source": [
    "def get_guess(msg=\"\\n\\nWhat do you think the mean is? \"):\n",
    "    guess = input(msg)\n",
    "    try: \n",
    "        return float(guess)\n",
    "    except ValueError:\n",
    "        get_guess(\"Your guess has to be a number: \")"
   ]
  },
  {
   "cell_type": "code",
   "execution_count": null,
   "metadata": {},
   "outputs": [],
   "source": [
    "def generate_graph(data):\n",
    "    print(\"New Game\")\n",
    "    plt.figure();\n",
    "    plt.hist(data);\n",
    "    plt.tick_params(axis=\"y\", left=False, labelleft=False)\n",
    "    plt.show()"
   ]
  },
  {
   "cell_type": "code",
   "execution_count": null,
   "metadata": {},
   "outputs": [],
   "source": [
    "def new_game(n_choices,n):\n",
    "    data = generate_data(n_choices,n)\n",
    "    generate_graph(data)\n",
    "    guess=get_guess()\n",
    "    answer = np.mean(data)\n",
    "    score = round(math.exp(-1 * abs(answer-guess)) * 1000)\n",
    "    if guess == answer:\n",
    "        print(\"\\nRight on the Nose!\")\n",
    "    else:\n",
    "        print(\"\\nClose, the correct answer was {0}.\\nYour score: {1}\".format(answer, score))\n",
    "    return score"
   ]
  },
  {
   "cell_type": "code",
   "execution_count": null,
   "metadata": {},
   "outputs": [],
   "source": [
    "def new_session(n_choices,n):\n",
    "    scores = [] #store all scores for session\n",
    "    while True: #game ends by closing window\n",
    "        score = new_game(n_choices,n)\n",
    "        scores.append(score) #add latest score\n",
    "        scores = sorted(scores, reverse=True) #resort score with newest addition\n",
    "        print(\"\\n\\nHigh Scores\")\n",
    "        for rank, score in enumerate(scores[:5],1):\n",
    "            print(\"{0}.) {1}\".format(rank,score))"
   ]
  },
  {
   "cell_type": "code",
   "execution_count": null,
   "metadata": {},
   "outputs": [],
   "source": [
    "new_session(n_choices,n)"
   ]
  },
  {
   "cell_type": "code",
   "execution_count": null,
   "metadata": {},
   "outputs": [],
   "source": []
  }
 ],
 "metadata": {
  "kernelspec": {
   "display_name": "Python 3",
   "language": "python",
   "name": "python3"
  },
  "language_info": {
   "codemirror_mode": {
    "name": "ipython",
    "version": 3
   },
   "file_extension": ".py",
   "mimetype": "text/x-python",
   "name": "python",
   "nbconvert_exporter": "python",
   "pygments_lexer": "ipython3",
   "version": "3.7.6"
  }
 },
 "nbformat": 4,
 "nbformat_minor": 4
}
